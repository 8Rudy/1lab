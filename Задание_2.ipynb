{
  "nbformat": 4,
  "nbformat_minor": 0,
  "metadata": {
    "colab": {
      "provenance": [],
      "collapsed_sections": [],
      "authorship_tag": "ABX9TyPPGxhgCV60ZYlDp4D9f4qV",
      "include_colab_link": true
    },
    "kernelspec": {
      "name": "python3",
      "display_name": "Python 3"
    },
    "language_info": {
      "name": "python"
    }
  },
  "cells": [
    {
      "cell_type": "markdown",
      "metadata": {
        "id": "view-in-github",
        "colab_type": "text"
      },
      "source": [
        "<a href=\"https://colab.research.google.com/github/Misha29RUS/DA-in-GameDev-lab1/blob/main/%D0%97%D0%B0%D0%B4%D0%B0%D0%BD%D0%B8%D0%B5_2.ipynb\" target=\"_parent\"><img src=\"https://colab.research.google.com/assets/colab-badge.svg\" alt=\"Open In Colab\"/></a>"
      ]
    },
    {
      "cell_type": "code",
      "execution_count": null,
      "metadata": {
        "colab": {
          "base_uri": "https://localhost:8080/",
          "height": 338
        },
        "id": "RSS6A3j1C471",
        "outputId": "3864ea43-0236-457b-82b0-8a401fc0102b"
      },
      "outputs": [
        {
          "output_type": "stream",
          "name": "stdout",
          "text": [
            "[0.63301108]\n",
            "[0.7721089]\n",
            "[0.63649124] [0.77215867] 2107.7699962210077\n"
          ]
        },
        {
          "output_type": "execute_result",
          "data": {
            "text/plain": [
              "[<matplotlib.lines.Line2D at 0x7f7d537d6d50>]"
            ]
          },
          "metadata": {},
          "execution_count": 39
        },
        {
          "output_type": "display_data",
          "data": {
            "text/plain": [
              "<Figure size 432x288 with 1 Axes>"
            ],
            "image/png": "[encoded data removed]"
          },
          "metadata": {
            "needs_background": "light"
          }
        }
      ],
      "source": [
        "#Import the required modules, numpy for calculation, and Matplotlib for drawing\n",
        "import numpy as np\n",
        "import matplotlib.pyplot as plt\n",
        "#This code is for jupyter Notebook only\n",
        "%matplotlib inline\n",
        "\n",
        "# define data, and change list to array\n",
        "x = [3,21,22,34,54,34,55,67,89,99]\n",
        "x = np.array(x)\n",
        "y = [2,22,24,65,79,82,55,130,150,199]\n",
        "y = np.array(y)\n",
        "\n",
        "#Show the effect of a scatter plot\n",
        "plt.scatter(x,y)\n",
        "\n",
        "def model(a, b, x):\n",
        "    return a*x + b\n",
        "\n",
        "def loss_function(a, b, x, y):\n",
        "    num = len(x)\n",
        "    prediction = model(a,b,x)\n",
        "    return (0.5/num) * (np.square(prediction - y)).sum()\n",
        "\n",
        "def optimize(a, b, x, y):\n",
        "    num = len(x)\n",
        "    prediction = model(a, b, x)\n",
        "    da = (1.0/num) * ((prediction - y) * x).sum()\n",
        "    db = (1.0/num) * ((prediction - y).sum())\n",
        "    a = a - Lr * da\n",
        "    b = b - Lr * db\n",
        "    return a, b\n",
        "\n",
        "def iterate(a, b, x, y, times):\n",
        "    for i in range(times):\n",
        "        a, b = optimize(a, b, x, y)\n",
        "    return a, b\n",
        "\n",
        "a = np.random.rand(1)\n",
        "print(a)\n",
        "b = np.random.rand(1)\n",
        "print(b)\n",
        "Lr = 0.000001\n",
        "\n",
        "a, b = iterate(a, b, x, y, 1)\n",
        "prediction = model(a,b,x)\n",
        "loss = loss_function(a, b, x, y)\n",
        "print(a ,b , loss)\n",
        "plt.scatter(x, y)\n",
        "plt.plot(x, prediction) "
      ]
    }
  ]
}