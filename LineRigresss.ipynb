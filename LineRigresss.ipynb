{
 "cells": [
  {
   "cell_type": "code",
   "execution_count": 1,
   "id": "941279c5",
   "metadata": {},
   "outputs": [
    {
     "data": {
      "text/plain": [
       "<matplotlib.collections.PathCollection at 0x1c8840a3700>"
      ]
     },
     "execution_count": 1,
     "metadata": {},
     "output_type": "execute_result"
    },
    {
     "data": {
      "image/png": "[encoded data removed]",
      "text/plain": [
       "<Figure size 432x288 with 1 Axes>"
      ]
     },
     "metadata": {
      "needs_background": "light"
     },
     "output_type": "display_data"
    }
   ],
   "source": [
    "#Import the required modules, numpy for calculation, and Matplotlib for drawing\n",
    "import numpy as np\n",
    "import matplotlib.pyplot as plt\n",
    "#This code is for jupyter Notebook only\n",
    "%matplotlib inline\n",
    "\n",
    "# define data, and change list to array\n",
    "x = [3,21,22,34,54,34,55,67,89,99]\n",
    "x = np.array(x)\n",
    "y = [2,22,24,65,79,82,55,130,150,199]\n",
    "y = np.array(y)\n",
    "\n",
    "#Show the effect of a scatter plot\n",
    "plt.scatter(x,y)"
   ]
  },
  {
   "cell_type": "code",
   "execution_count": 2,
   "id": "8e6b1950",
   "metadata": {},
   "outputs": [],
   "source": [
    "#The basic linear regression model is wx+ b, and since this is a two-dimensional space, the model is ax+ b\n",
    "\n",
    "def model(a, b, x):\n",
    "    return a*x + b\n",
    "\n",
    "#Tahe most commonly used loss function of linear regression model is the loss function of mean variance difference\n",
    "def loss_function(a, b, x, y):\n",
    "    num = len(x)\n",
    "    prediction=model(a,b,x)\n",
    "    return (0.5/num) * (np.square(prediction-y)).sum()\n",
    "\n",
    "#The optimization function mainly USES partial derivatives to update two parameters a and b\n",
    "def optimize(a,b,x,y):\n",
    "    num = len(x)\n",
    "    prediction = model(a,b,x)\n",
    "    #Update the values of A and B by finding the partial derivatives of the loss function on a and b\n",
    "    da = (1.0/num) * ((prediction -y)*x).sum()\n",
    "    db = (1.0/num) * ((prediction -y).sum())\n",
    "    a = a - Lr*da\n",
    "    b = b - Lr*db\n",
    "    return a, b\n",
    "\n",
    "#iterated function, return a and b\n",
    "def iterate(a,b,x,y,times):\n",
    "    for i in range(times):\n",
    "        a,b = optimize(a,b,x,y)\n",
    "    return a,b"
   ]
  },
  {
   "cell_type": "code",
   "execution_count": 3,
   "id": "ed672e71",
   "metadata": {},
   "outputs": [
    {
     "name": "stdout",
     "output_type": "stream",
     "text": [
      "[0.32499274]\n",
      "[0.56456353]\n",
      "[0.32944994] [0.56462823] 3334.331542539583\n"
     ]
    },
    {
     "data": {
      "text/plain": [
       "[<matplotlib.lines.Line2D at 0x1c8841ca3a0>]"
      ]
     },
     "execution_count": 3,
     "metadata": {},
     "output_type": "execute_result"
    },
    {
     "data": {
      "image/png": "[encoded data removed]",
      "text/plain": [
       "<Figure size 432x288 with 1 Axes>"
      ]
     },
     "metadata": {
      "needs_background": "light"
     },
     "output_type": "display_data"
    }
   ],
   "source": [
    "#Initialize parameters and display\n",
    "a = np.random.rand(1)\n",
    "print(a)\n",
    "b = np.random.rand(1)\n",
    "print(b)\n",
    "Lr = 0.000001\n",
    "\n",
    "#For the first iteration, the parameter values, losses, and visualization after the iteration are displayed\n",
    "a,b = iterate(a,b,x,y,1)\n",
    "prediction=model(a,b,x)\n",
    "loss = loss_function(a, b, x, y)\n",
    "print(a,b,loss)\n",
    "plt.scatter(x,y)\n",
    "plt.plot(x,prediction)\n"
   ]
  },
  {
   "cell_type": "code",
   "execution_count": 4,
   "id": "e43bceb6",
   "metadata": {},
   "outputs": [
    {
     "name": "stdout",
     "output_type": "stream",
     "text": [
      "[0.56955814]\n",
      "[0.91324983]\n",
      "[0.5768919] [0.91335498] 2312.714436807885\n"
     ]
    },
    {
     "data": {
      "text/plain": [
       "[<matplotlib.lines.Line2D at 0x1c8842411c0>]"
      ]
     },
     "execution_count": 4,
     "metadata": {},
     "output_type": "execute_result"
    },
    {
     "data": {
      "image/png": "[encoded data removed]",
      "text/plain": [
       "<Figure size 432x288 with 1 Axes>"
      ]
     },
     "metadata": {
      "needs_background": "light"
     },
     "output_type": "display_data"
    }
   ],
   "source": [
    "#Initialize parameters and display\n",
    "a = np.random.rand(1)\n",
    "print(a)\n",
    "b = np.random.rand(1)\n",
    "print(b)\n",
    "Lr = 0.000001\n",
    "\n",
    "#For the first iteration, the parameter values, losses, and visualization after the iteration are displayed\n",
    "a,b = iterate(a,b,x,y,2)\n",
    "prediction=model(a,b,x)\n",
    "loss = loss_function(a, b, x, y)\n",
    "print(a,b,loss)\n",
    "plt.scatter(x,y)\n",
    "plt.plot(x,prediction)\n"
   ]
  },
  {
   "cell_type": "code",
   "execution_count": 6,
   "id": "456eb133",
   "metadata": {},
   "outputs": [
    {
     "name": "stdout",
     "output_type": "stream",
     "text": [
      "[0.0024679]\n",
      "[0.76674545]\n",
      "[0.01879711] [0.76698441] 4850.095056598918\n"
     ]
    },
    {
     "data": {
      "text/plain": [
       "[<matplotlib.lines.Line2D at 0x1c884311d90>]"
      ]
     },
     "execution_count": 6,
     "metadata": {},
     "output_type": "execute_result"
    },
    {
     "data": {
      "image/png": "[encoded data removed]",
      "text/plain": [
       "<Figure size 432x288 with 1 Axes>"
      ]
     },
     "metadata": {
      "needs_background": "light"
     },
     "output_type": "display_data"
    }
   ],
   "source": [
    "#Initialize parameters and display\n",
    "a = np.random.rand(1)\n",
    "print(a)\n",
    "b = np.random.rand(1)\n",
    "print(b)\n",
    "Lr = 0.000001\n",
    "\n",
    "#For the first iteration, the parameter values, losses, and visualization after the iteration are displayed\n",
    "a,b = iterate(a,b,x,y,3)\n",
    "prediction=model(a,b,x)\n",
    "loss = loss_function(a, b, x, y)\n",
    "print(a,b,loss)\n",
    "plt.scatter(x,y)\n",
    "plt.plot(x,prediction)\n"
   ]
  },
  {
   "cell_type": "code",
   "execution_count": 7,
   "id": "896b19cb",
   "metadata": {},
   "outputs": [
    {
     "name": "stdout",
     "output_type": "stream",
     "text": [
      "[0.29890692]\n",
      "[0.09705913]\n",
      "[0.31706696] [0.09732348] 3420.113572725217\n"
     ]
    },
    {
     "data": {
      "text/plain": [
       "[<matplotlib.lines.Line2D at 0x1c88438b460>]"
      ]
     },
     "execution_count": 7,
     "metadata": {},
     "output_type": "execute_result"
    },
    {
     "data": {
      "image/png": "[encoded data removed]",
      "text/plain": [
       "<Figure size 432x288 with 1 Axes>"
      ]
     },
     "metadata": {
      "needs_background": "light"
     },
     "output_type": "display_data"
    }
   ],
   "source": [
    "#Initialize parameters and display\n",
    "a = np.random.rand(1)\n",
    "print(a)\n",
    "b = np.random.rand(1)\n",
    "print(b)\n",
    "Lr = 0.000001\n",
    "\n",
    "#For the first iteration, the parameter values, losses, and visualization after the iteration are displayed\n",
    "a,b = iterate(a,b,x,y,4)\n",
    "prediction=model(a,b,x)\n",
    "loss = loss_function(a, b, x, y)\n",
    "print(a,b,loss)\n",
    "plt.scatter(x,y)\n",
    "plt.plot(x,prediction)\n"
   ]
  },
  {
   "cell_type": "code",
   "execution_count": 8,
   "id": "3d8c7fac",
   "metadata": {},
   "outputs": [
    {
     "name": "stdout",
     "output_type": "stream",
     "text": [
      "[0.89162812]\n",
      "[0.31468737]\n",
      "[0.90499403] [0.31487541] 1306.3690020513577\n"
     ]
    },
    {
     "data": {
      "text/plain": [
       "[<matplotlib.lines.Line2D at 0x1c8843f3b80>]"
      ]
     },
     "execution_count": 8,
     "metadata": {},
     "output_type": "execute_result"
    },
    {
     "data": {
      "image/png": "[encoded data removed]",
      "text/plain": [
       "<Figure size 432x288 with 1 Axes>"
      ]
     },
     "metadata": {
      "needs_background": "light"
     },
     "output_type": "display_data"
    }
   ],
   "source": [
    "#Initialize parameters and display\n",
    "a = np.random.rand(1)\n",
    "print(a)\n",
    "b = np.random.rand(1)\n",
    "print(b)\n",
    "Lr = 0.000001\n",
    "\n",
    "#For the first iteration, the parameter values, losses, and visualization after the iteration are displayed\n",
    "a,b = iterate(a,b,x,y,5)\n",
    "prediction=model(a,b,x)\n",
    "loss = loss_function(a, b, x, y)\n",
    "print(a,b,loss)\n",
    "plt.scatter(x,y)\n",
    "plt.plot(x,prediction)\n"
   ]
  },
  {
   "cell_type": "code",
   "execution_count": 9,
   "id": "b3ab9a11",
   "metadata": {},
   "outputs": [
    {
     "name": "stdout",
     "output_type": "stream",
     "text": [
      "[0.82954977]\n",
      "[0.02522035]\n",
      "[1.75301438] [0.00919954] 188.7806083393656\n"
     ]
    },
    {
     "data": {
      "text/plain": [
       "[<matplotlib.lines.Line2D at 0x1c88446e1f0>]"
      ]
     },
     "execution_count": 9,
     "metadata": {},
     "output_type": "execute_result"
    },
    {
     "data": {
      "image/png": "[encoded data removed]",
      "text/plain": [
       "<Figure size 432x288 with 1 Axes>"
      ]
     },
     "metadata": {
      "needs_background": "light"
     },
     "output_type": "display_data"
    }
   ],
   "source": [
    "#Initialize parameters and display\n",
    "a = np.random.rand(1)\n",
    "print(a)\n",
    "b = np.random.rand(1)\n",
    "print(b)\n",
    "Lr = 0.000001\n",
    "\n",
    "#For the first iteration, the parameter values, losses, and visualization after the iteration are displayed\n",
    "a,b = iterate(a,b,x,y,10000)\n",
    "prediction=model(a,b,x)\n",
    "loss = loss_function(a, b, x, y)\n",
    "print(a,b,loss)\n",
    "plt.scatter(x,y)\n",
    "plt.plot(x,prediction)\n"
   ]
  },
  {
   "cell_type": "code",
   "execution_count": null,
   "id": "b507ebf5",
   "metadata": {},
   "outputs": [],
   "source": []
  }
 ],
 "metadata": {
  "kernelspec": {
   "display_name": "Python 3 (ipykernel)",
   "language": "python",
   "name": "python3"
  },
  "language_info": {
   "codemirror_mode": {
    "name": "ipython",
    "version": 3
   },
   "file_extension": ".py",
   "mimetype": "text/x-python",
   "name": "python",
   "nbconvert_exporter": "python",
   "pygments_lexer": "ipython3",
   "version": "3.9.12"
  }
 },
 "nbformat": 4,
 "nbformat_minor": 5
}
