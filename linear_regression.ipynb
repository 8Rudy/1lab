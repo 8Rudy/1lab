{
  "nbformat": 4,
  "nbformat_minor": 0,
  "metadata": {
    "colab": {
      "provenance": [],
      "collapsed_sections": []
    },
    "kernelspec": {
      "name": "python3",
      "display_name": "Python 3"
    },
    "language_info": {
      "name": "python"
    }
  },
  "cells": [
    {
      "cell_type": "code",
      "execution_count": 5,
      "metadata": {
        "colab": {
          "base_uri": "https://localhost:8080/",
          "height": 282
        },
        "id": "boa18Jjqv1Uw",
        "outputId": "066339d2-1adc-4338-83a2-c0e8a26a9067"
      },
      "outputs": [
        {
          "output_type": "execute_result",
          "data": {
            "text/plain": [
              "<matplotlib.collections.PathCollection at 0x7fc287ebac10>"
            ]
          },
          "metadata": {},
          "execution_count": 5
        },
        {
          "output_type": "display_data",
          "data": {
            "text/plain": [
              "<Figure size 432x288 with 1 Axes>"
            ],
            "image/png": "[encoded data removed]"
          },
          "metadata": {
            "needs_background": "light"
          }
        }
      ],
      "source": [
        "#Import the required modules, numpy for calculation, and Matplotlib for drawing\n",
        "import numpy as np\n",
        "import matplotlib.pyplot as plt\n",
        "#This code is for jupyter Notebook only\n",
        "%matplotlib inline\n",
        "\n",
        "# define data, and change list to array\n",
        "x = [3,21,22,34,54,34,55,67,89,99]\n",
        "x = np.array(x)\n",
        "y = [2,22,24,65,79,82,55,130,150,199]\n",
        "y = np.array(y)\n",
        "\n",
        "#Show the effect of a scatter plot\n",
        "plt.scatter(x,y)"
      ]
    },
    {
      "cell_type": "code",
      "source": [
        "# Функция модели: определяет модель линейной регрессии wx+b\n",
        "def model(w, b, x):\n",
        "    return w*x + b\n",
        "\n",
        "# Функция потерь: функция потерь среднеквадратичной ошибки\n",
        "def loss_function(w, b, x, y):\n",
        "    num = len(x)\n",
        "    prediction = model(w, b, x)\n",
        "    return (0.5/num) * (np.square(prediction - y)).sum()\n",
        "\n",
        "# Функция оптимизации: метод градиентного спуска для нахождения частных производных w и b.\n",
        "def optimize(w, b, x, y):\n",
        "    num = len(x)\n",
        "    prediction = model(w, b, x)\n",
        "    dw = (1.0 / num) * ((prediction - y) * x).sum()\n",
        "    db = (1.0 / num) * ((prediction - y).sum())\n",
        "    \n",
        "    w = w - Lr*dw\n",
        "    b = b - Lr*db\n",
        "    return w, b\n",
        "\n",
        "def iterate(w, b, x, y, times):\n",
        "    for i in range (times):\n",
        "        w, b = optimize (w, b, x, y)\n",
        "        \n",
        "    return w, b"
      ],
      "metadata": {
        "id": "EfKF0s1_3c32"
      },
      "execution_count": 6,
      "outputs": []
    },
    {
      "cell_type": "code",
      "source": [
        "w = np.random.rand(1)\n",
        "print(f'w = {w}') # написал, что w есть w, а b есть b, чтобы не путаться\n",
        "b = np.random.rand(1)\n",
        "print(f'b = {b}')\n",
        "Lr = 0.000001\n",
        "\n",
        "w, b = iterate(w, b, x, y, 1000000) # the more times it iterates the line is more correct\n",
        "prediction = model(w, b, x)\n",
        "loss = loss_function(w, b, x, y)\n",
        "print({'w': w, 'b': b, 'loss': loss}) # made dict for my understanding\n",
        "plt.scatter(x, y)\n",
        "plt.plot(x, prediction)"
      ],
      "metadata": {
        "colab": {
          "base_uri": "https://localhost:8080/",
          "height": 334
        },
        "id": "Qn7S5kr93d7w",
        "outputId": "72229c41-496f-4c1e-8088-a4d827309eda"
      },
      "execution_count": 18,
      "outputs": [
        {
          "output_type": "stream",
          "name": "stdout",
          "text": [
            "w = [0.56141248]\n",
            "b = [0.37330409]\n",
            "{'w': array([1.78861262]), 'b': array([-2.32891078]), 'loss': 182.50125779113492}\n"
          ]
        },
        {
          "output_type": "execute_result",
          "data": {
            "text/plain": [
              "[<matplotlib.lines.Line2D at 0x7fc28711f8d0>]"
            ]
          },
          "metadata": {},
          "execution_count": 18
        },
        {
          "output_type": "display_data",
          "data": {
            "text/plain": [
              "<Figure size 432x288 with 1 Axes>"
            ],
            "image/png": "[encoded data removed]"
          },
          "metadata": {
            "needs_background": "light"
          }
        }
      ]
    },
    {
      "cell_type": "code",
      "source": [
        "# Чем больше разница элементов между x и y, тем больше значение loss, при чем \n",
        "# loss принимает большее значение при большем x.\n",
        "\n",
        "x1 = [1,1,1,1,1,1,1,1,1,1]\n",
        "x1 = np.array(x1)\n",
        "y1 = [1,1,1,1,1,1,1,1,1,1]\n",
        "y1 = np.array(y1)\n",
        "\n",
        "loss = loss_function(w, b, x1, y1)\n",
        "print('loss1 is', loss)\n",
        "\n",
        "x2 = [1,1,1,1,1,1,1,1,1,1]\n",
        "x2 = np.array(x2)\n",
        "y2 = [99,99,99,99,99,99,99,99,99,99]\n",
        "y2 = np.array(y2)\n",
        "\n",
        "loss = loss_function(w, b, x2, y2)\n",
        "print('loss2 is', loss)\n",
        "\n",
        "x3 = [99,99,99,99,99,99,99,99,99,99]\n",
        "x3 = np.array(x3)\n",
        "y3 = [1,1,1,1,1,1,1,1,1,1]\n",
        "y3 = np.array(y3)\n",
        "\n",
        "loss = loss_function(w, b, x3, y3)\n",
        "print('loss3 is', loss)\n",
        "\n",
        "x4 = [99,99,99,99,99,99,99,99,99,99]\n",
        "x4 = np.array(x4)\n",
        "y4 = [99,99,99,99,99,99,99,99,99,99]\n",
        "y4 = np.array(y4)\n",
        "\n",
        "loss = loss_function(w, b, x4, y4)\n",
        "print('loss4 is', loss)"
      ],
      "metadata": {
        "colab": {
          "base_uri": "https://localhost:8080/"
        },
        "id": "UBB6MzgLZP0T",
        "outputId": "47d20eea-989d-4acf-e787-fcc5dacacb34"
      },
      "execution_count": 22,
      "outputs": [
        {
          "output_type": "stream",
          "name": "stdout",
          "text": [
            "loss1 is 1.1862592086562997\n",
            "loss2 is 4954.135478749104\n",
            "loss3 is 15093.443331280745\n",
            "loss4 is 2868.556959802237\n"
          ]
        }
      ]
    },
    {
      "cell_type": "code",
      "source": [
        "# if malo == 2.999 then loss = 0.0006529943775396452\n",
        "# При определенных значениях переменная loss действительно может стремиться к нулю\n",
        "malo = 2.999\n",
        "x1 = [malo,malo,malo,malo,malo,malo,malo,malo,malo,malo,]\n",
        "x1 = np.array(x1)\n",
        "y1 = [malo,malo,malo,malo,malo,malo,malo,malo,malo,malo,]\n",
        "y1 = np.array(y1)\n",
        "\n",
        "loss = loss_function(w, b, x1, y1)\n",
        "print('loss1 is', loss)\n"
      ],
      "metadata": {
        "colab": {
          "base_uri": "https://localhost:8080/"
        },
        "id": "u_jSHpnTeoyL",
        "outputId": "8f216ce8-c99c-46a5-939f-8444117e7ec2"
      },
      "execution_count": 49,
      "outputs": [
        {
          "output_type": "stream",
          "name": "stdout",
          "text": [
            "loss1 is 0.0006529943775396452\n"
          ]
        }
      ]
    },
    {
      "cell_type": "code",
      "source": [],
      "metadata": {
        "id": "IHqlmBZkh47j"
      },
      "execution_count": null,
      "outputs": []
    }
  ]
}